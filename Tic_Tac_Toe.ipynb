{
  "nbformat": 4,
  "nbformat_minor": 0,
  "metadata": {
    "colab": {
      "name": "Tic-Tac Toe",
      "version": "0.3.2",
      "provenance": []
    },
    "kernelspec": {
      "name": "python3",
      "display_name": "Python 3"
    }
  },
  "cells": [
    {
      "cell_type": "code",
      "metadata": {
        "id": "IvW5ceMyRFdW",
        "colab_type": "code",
        "colab": {}
      },
      "source": [
        "board = ['-']*9 "
      ],
      "execution_count": 0,
      "outputs": []
    },
    {
      "cell_type": "code",
      "metadata": {
        "id": "Gs2azTySJnYi",
        "colab_type": "code",
        "colab": {}
      },
      "source": [
        "def print_board():\n",
        "  for i in range(0,3):\n",
        "    print(board[3*i + 0],\" \",board[3*i + 1],\" \",board[3*i + 2])  \n"
      ],
      "execution_count": 0,
      "outputs": []
    },
    {
      "cell_type": "code",
      "metadata": {
        "id": "AbuWoOAbRbk8",
        "colab_type": "code",
        "colab": {}
      },
      "source": [
        "def start():\n",
        "  print(\"welcome to tic- tac toe\")\n",
        "  print(\"This is the board\")\n",
        "  print_board() "
      ],
      "execution_count": 0,
      "outputs": []
    },
    {
      "cell_type": "code",
      "metadata": {
        "id": "MFx_7YFKWxBO",
        "colab_type": "code",
        "colab": {}
      },
      "source": [
        "def is_done(syb):\n",
        "  if board[0] == board[1] == board[2] == syb:\n",
        "    return True\n",
        "  elif board[3] == board[4] == board[5] == syb:\n",
        "    return True\n",
        "  elif board[6] == board[7] == board[8]== syb:\n",
        "    return True\n",
        "  elif board[0] == board[4] == board[8] == syb:\n",
        "    return True\n",
        "  elif board[6] == board[4] == board[2] == syb:\n",
        "    return True\n",
        "  else:\n",
        "    return False\n",
        "  \n",
        "def is_full():\n",
        "  for i in range(0,9):\n",
        "    if board[i] == '-':\n",
        "      return False\n",
        "  return True"
      ],
      "execution_count": 0,
      "outputs": []
    },
    {
      "cell_type": "code",
      "metadata": {
        "id": "R2I3fM8zXBRn",
        "colab_type": "code",
        "colab": {}
      },
      "source": [
        "def give_inp(pos,syb):\n",
        "  board[pos] = syb\n",
        "  print_board()\n",
        "  if is_done(syb):\n",
        "    print(\"bingo you won\")\n",
        "    return True\n",
        "  else:\n",
        "    return False"
      ],
      "execution_count": 0,
      "outputs": []
    },
    {
      "cell_type": "code",
      "metadata": {
        "id": "ap8y72v7ZDUF",
        "colab_type": "code",
        "colab": {}
      },
      "source": [
        "def game():\n",
        "  start()\n",
        "  flag = True\n",
        "  while (is_full() == False):\n",
        "    num = int(input())\n",
        "    syb = input()\n",
        "    if give_inp(num,syb) == True:\n",
        "      return\n",
        "      \n",
        "  else:\n",
        "    print(\"oops! board is full \")"
      ],
      "execution_count": 0,
      "outputs": []
    },
    {
      "cell_type": "code",
      "metadata": {
        "id": "2_JCor3AbsET",
        "colab_type": "code",
        "outputId": "f65cd022-0bc3-486e-ef1e-bcb5c8766849",
        "colab": {
          "base_uri": "https://localhost:8080/",
          "height": 903
        }
      },
      "source": [
        "game()"
      ],
      "execution_count": 0,
      "outputs": [
        {
          "output_type": "stream",
          "text": [
            "welcome to tic- tac toe\n",
            "This is the board\n",
            "-   -   -\n",
            "-   -   -\n",
            "-   -   -\n",
            "4\n",
            "x\n",
            "-   -   -\n",
            "-   x   -\n",
            "-   -   -\n",
            "2\n",
            "o\n",
            "-   -   o\n",
            "-   x   -\n",
            "-   -   -\n",
            "8\n",
            "x\n",
            "-   -   o\n",
            "-   x   -\n",
            "-   -   x\n",
            "0\n",
            "o\n",
            "o   -   o\n",
            "-   x   -\n",
            "-   -   x\n",
            "1\n",
            "x\n",
            "o   x   o\n",
            "-   x   -\n",
            "-   -   x\n",
            "3\n",
            "o\n",
            "o   x   o\n",
            "o   x   -\n",
            "-   -   x\n",
            "7\n",
            "\n",
            "o   x   o\n",
            "o   x   -\n",
            "-      x\n",
            "5\n",
            "o\n",
            "o   x   o\n",
            "o   x   o\n",
            "-      x\n",
            "6\n",
            "\n",
            "o   x   o\n",
            "o   x   o\n",
            "      x\n",
            "oops! board is full \n"
          ],
          "name": "stdout"
        }
      ]
    },
    {
      "cell_type": "code",
      "metadata": {
        "id": "z_IUeA8lGXY1",
        "colab_type": "code",
        "colab": {}
      },
      "source": [
        ""
      ],
      "execution_count": 0,
      "outputs": []
    }
  ]
}